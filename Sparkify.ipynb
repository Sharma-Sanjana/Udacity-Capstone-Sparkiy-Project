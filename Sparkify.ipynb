{
 "cells": [
  {
   "cell_type": "markdown",
   "metadata": {},
   "source": [
    "# Sparkify Project Workspace\n",
    "This workspace contains a tiny subset (128MB) of the full dataset available (12GB). Feel free to use this workspace to build your project, or to explore a smaller subset with Spark before deploying your cluster on the cloud. Instructions for setting up your Spark cluster is included in the last lesson of the Extracurricular Spark Course content.\n",
    "\n",
    "You can follow the steps below to guide your data analysis and model building portion of this project."
   ]
  },
  {
   "cell_type": "code",
   "execution_count": 1,
   "metadata": {},
   "outputs": [],
   "source": [
    "# import libraries\n",
    "import pandas as pd\n",
    "import numpy as np\n",
    "import matplotlib.pyplot as plt\n",
    "import seaborn as sns\n",
    "import datetime\n",
    "import re\n",
    "\n",
    "from pyspark.ml import pipeline\n",
    "from pyspark.ml.evaluation import MulticlassClassificationEvaluator\n",
    "from pyspark.ml.regression import LinearRegression\n",
    "from pyspark.ml.classification import LinearSVC, NaiveBayes, RandomForestClassifier, DecisionTreeClassifier, GBTClassifier\n",
    "from pyspark.ml.tuning import CrossValidator, ParamGridBuilder\n",
    "from pyspark.ml.feature import CountVectorizer, IDF, StopWordsRemover, StringIndexer, Normalizer, RegexTokenizer, StandardScaler, VectorAssembler, PCA\n",
    "from pyspark.sql.types import IntegerType\n",
    "from pyspark.sql.functions import avg, explode, concat, lit, min, max, split, udf, isnull, col, desc\n",
    "from pyspark.sql import SparkSession, Window\n",
    "\n"
   ]
  },
  {
   "cell_type": "code",
   "execution_count": 2,
   "metadata": {},
   "outputs": [],
   "source": [
    "# create a Spark session\n",
    "##from lesson\n",
    "spark = SparkSession \\\n",
    "    .builder \\\n",
    "    .appName(\"Sparkify\") \\\n",
    "    .getOrCreate()"
   ]
  },
  {
   "cell_type": "markdown",
   "metadata": {},
   "source": [
    "# Load and Clean Dataset\n",
    "In this workspace, the mini-dataset file is `mini_sparkify_event_data.json`. Load and clean the dataset, checking for invalid or missing data - for example, records without userids or sessionids. "
   ]
  },
  {
   "cell_type": "code",
   "execution_count": 3,
   "metadata": {},
   "outputs": [
    {
     "name": "stdout",
     "output_type": "stream",
     "text": [
      "root\n",
      " |-- artist: string (nullable = true)\n",
      " |-- auth: string (nullable = true)\n",
      " |-- firstName: string (nullable = true)\n",
      " |-- gender: string (nullable = true)\n",
      " |-- itemInSession: long (nullable = true)\n",
      " |-- lastName: string (nullable = true)\n",
      " |-- length: double (nullable = true)\n",
      " |-- level: string (nullable = true)\n",
      " |-- location: string (nullable = true)\n",
      " |-- method: string (nullable = true)\n",
      " |-- page: string (nullable = true)\n",
      " |-- registration: long (nullable = true)\n",
      " |-- sessionId: long (nullable = true)\n",
      " |-- song: string (nullable = true)\n",
      " |-- status: long (nullable = true)\n",
      " |-- ts: long (nullable = true)\n",
      " |-- userAgent: string (nullable = true)\n",
      " |-- userId: string (nullable = true)\n",
      "\n"
     ]
    }
   ],
   "source": [
    "sparkify_data='mini_sparkify_event_data.json'\n",
    "df=spark.read.json(sparkify_data)\n",
    "df.printSchema()"
   ]
  },
  {
   "cell_type": "code",
   "execution_count": 4,
   "metadata": {
    "collapsed": true
   },
   "outputs": [
    {
     "name": "stdout",
     "output_type": "stream",
     "text": [
      "+--------------------+---------+---------+------+-------------+--------+---------+-----+--------------------+------+---------------+-------------+---------+--------------------+------+-------------+--------------------+------+\n",
      "|              artist|     auth|firstName|gender|itemInSession|lastName|   length|level|            location|method|           page| registration|sessionId|                song|status|           ts|           userAgent|userId|\n",
      "+--------------------+---------+---------+------+-------------+--------+---------+-----+--------------------+------+---------------+-------------+---------+--------------------+------+-------------+--------------------+------+\n",
      "|      Martha Tilston|Logged In|    Colin|     M|           50| Freeman|277.89016| paid|     Bakersfield, CA|   PUT|       NextSong|1538173362000|       29|           Rockpools|   200|1538352117000|Mozilla/5.0 (Wind...|    30|\n",
      "|    Five Iron Frenzy|Logged In|    Micah|     M|           79|    Long|236.09424| free|Boston-Cambridge-...|   PUT|       NextSong|1538331630000|        8|              Canada|   200|1538352180000|\"Mozilla/5.0 (Win...|     9|\n",
      "|        Adam Lambert|Logged In|    Colin|     M|           51| Freeman| 282.8273| paid|     Bakersfield, CA|   PUT|       NextSong|1538173362000|       29|   Time For Miracles|   200|1538352394000|Mozilla/5.0 (Wind...|    30|\n",
      "|              Enigma|Logged In|    Micah|     M|           80|    Long|262.71302| free|Boston-Cambridge-...|   PUT|       NextSong|1538331630000|        8|Knocking On Forbi...|   200|1538352416000|\"Mozilla/5.0 (Win...|     9|\n",
      "|           Daft Punk|Logged In|    Colin|     M|           52| Freeman|223.60771| paid|     Bakersfield, CA|   PUT|       NextSong|1538173362000|       29|Harder Better Fas...|   200|1538352676000|Mozilla/5.0 (Wind...|    30|\n",
      "|The All-American ...|Logged In|    Micah|     M|           81|    Long|208.29995| free|Boston-Cambridge-...|   PUT|       NextSong|1538331630000|        8|      Don't Leave Me|   200|1538352678000|\"Mozilla/5.0 (Win...|     9|\n",
      "|The Velvet Underg...|Logged In|    Micah|     M|           82|    Long|260.46649| free|Boston-Cambridge-...|   PUT|       NextSong|1538331630000|        8|         Run Run Run|   200|1538352886000|\"Mozilla/5.0 (Win...|     9|\n",
      "|        Starflyer 59|Logged In|    Colin|     M|           53| Freeman|185.44281| paid|     Bakersfield, CA|   PUT|       NextSong|1538173362000|       29|Passengers (Old A...|   200|1538352899000|Mozilla/5.0 (Wind...|    30|\n",
      "|                null|Logged In|    Colin|     M|           54| Freeman|     null| paid|     Bakersfield, CA|   PUT|Add to Playlist|1538173362000|       29|                null|   200|1538352905000|Mozilla/5.0 (Wind...|    30|\n",
      "|            Frumpies|Logged In|    Colin|     M|           55| Freeman|134.47791| paid|     Bakersfield, CA|   PUT|       NextSong|1538173362000|       29|          Fuck Kitty|   200|1538353084000|Mozilla/5.0 (Wind...|    30|\n",
      "|        Britt Nicole|Logged In|    Micah|     M|           83|    Long| 229.8771| free|Boston-Cambridge-...|   PUT|       NextSong|1538331630000|        8|   Walk On The Water|   200|1538353146000|\"Mozilla/5.0 (Win...|     9|\n",
      "|                null|Logged In|    Micah|     M|           84|    Long|     null| free|Boston-Cambridge-...|   GET|    Roll Advert|1538331630000|        8|                null|   200|1538353150000|\"Mozilla/5.0 (Win...|     9|\n",
      "|Edward Sharpe & T...|Logged In|    Colin|     M|           56| Freeman|223.58159| paid|     Bakersfield, CA|   PUT|       NextSong|1538173362000|       29|                Jade|   200|1538353218000|Mozilla/5.0 (Wind...|    30|\n",
      "|               Tesla|Logged In|    Micah|     M|           85|    Long|201.06404| free|Boston-Cambridge-...|   PUT|       NextSong|1538331630000|        8|      Gettin' Better|   200|1538353375000|\"Mozilla/5.0 (Win...|     9|\n",
      "|                null|Logged In|    Micah|     M|           86|    Long|     null| free|Boston-Cambridge-...|   PUT|      Thumbs Up|1538331630000|        8|                null|   307|1538353376000|\"Mozilla/5.0 (Win...|     9|\n",
      "|         Stan Mosley|Logged In|    Colin|     M|           57| Freeman|246.69995| paid|     Bakersfield, CA|   PUT|       NextSong|1538173362000|       29|   So-Called Friends|   200|1538353441000|Mozilla/5.0 (Wind...|    30|\n",
      "|Florence + The Ma...|Logged In|    Micah|     M|           87|    Long|168.64608| free|Boston-Cambridge-...|   PUT|       NextSong|1538331630000|        8| You've Got The Love|   200|1538353576000|\"Mozilla/5.0 (Win...|     9|\n",
      "|   Tokyo Police Club|Logged In|  Ashlynn|     F|            0|Williams| 166.1122| free|     Tallahassee, FL|   PUT|       NextSong|1537365219000|      217|Citizens Of Tomorrow|   200|1538353668000|\"Mozilla/5.0 (Mac...|    74|\n",
      "|             Orishas|Logged In|    Colin|     M|           58| Freeman|222.22322| paid|     Bakersfield, CA|   PUT|       NextSong|1538173362000|       29|           Represent|   200|1538353687000|Mozilla/5.0 (Wind...|    30|\n",
      "|             Ratatat|Logged In|    Micah|     M|           88|    Long|229.77261| free|Boston-Cambridge-...|   PUT|       NextSong|1538331630000|        8|              Swisha|   200|1538353744000|\"Mozilla/5.0 (Win...|     9|\n",
      "+--------------------+---------+---------+------+-------------+--------+---------+-----+--------------------+------+---------------+-------------+---------+--------------------+------+-------------+--------------------+------+\n",
      "only showing top 20 rows\n",
      "\n"
     ]
    }
   ],
   "source": [
    "df.show()"
   ]
  },
  {
   "cell_type": "code",
   "execution_count": 4,
   "metadata": {},
   "outputs": [
    {
     "name": "stdout",
     "output_type": "stream",
     "text": [
      "<class 'pandas.core.frame.DataFrame'>\n",
      "RangeIndex: 286500 entries, 0 to 286499\n",
      "Data columns (total 18 columns):\n",
      "artist           228108 non-null object\n",
      "auth             286500 non-null object\n",
      "firstName        278154 non-null object\n",
      "gender           278154 non-null object\n",
      "itemInSession    286500 non-null int64\n",
      "lastName         278154 non-null object\n",
      "length           228108 non-null float64\n",
      "level            286500 non-null object\n",
      "location         278154 non-null object\n",
      "method           286500 non-null object\n",
      "page             286500 non-null object\n",
      "registration     278154 non-null float64\n",
      "sessionId        286500 non-null int64\n",
      "song             228108 non-null object\n",
      "status           286500 non-null int64\n",
      "ts               286500 non-null int64\n",
      "userAgent        278154 non-null object\n",
      "userId           286500 non-null object\n",
      "dtypes: float64(2), int64(4), object(12)\n",
      "memory usage: 39.3+ MB\n"
     ]
    }
   ],
   "source": [
    "dfp=df.toPandas()\n",
    "dfp.info()"
   ]
  },
  {
   "cell_type": "code",
   "execution_count": 17,
   "metadata": {},
   "outputs": [
    {
     "data": {
      "text/plain": [
       "18"
      ]
     },
     "execution_count": 17,
     "metadata": {},
     "output_type": "execute_result"
    }
   ],
   "source": [
    "##Number of rows and columns in the dataset\n",
    "len(df.columns) ##columns"
   ]
  },
  {
   "cell_type": "code",
   "execution_count": 18,
   "metadata": {},
   "outputs": [
    {
     "data": {
      "text/plain": [
       "286500"
      ]
     },
     "execution_count": 18,
     "metadata": {},
     "output_type": "execute_result"
    }
   ],
   "source": [
    "df.count() ##rows"
   ]
  },
  {
   "cell_type": "code",
   "execution_count": 21,
   "metadata": {},
   "outputs": [
    {
     "name": "stdout",
     "output_type": "stream",
     "text": [
      "Distinct users: 226\n"
     ]
    }
   ],
   "source": [
    "##number of distinct users in the data\n",
    "print(\"Distinct users:\", df.select(['userId']).dropDuplicates().count())"
   ]
  },
  {
   "cell_type": "code",
   "execution_count": 26,
   "metadata": {},
   "outputs": [
    {
     "name": "stdout",
     "output_type": "stream",
     "text": [
      "Number of sessions: 2354\n"
     ]
    }
   ],
   "source": [
    "##number of sessions in the data\n",
    "print(\"Number of sessions:\", df.select(['sessionId']).dropDuplicates().count())"
   ]
  },
  {
   "cell_type": "code",
   "execution_count": 4,
   "metadata": {},
   "outputs": [],
   "source": [
    "##drop missing userIds and sessionIds\n",
    "df = df.dropna(how='any', subset=['userId','sessionId'])"
   ]
  },
  {
   "cell_type": "code",
   "execution_count": 28,
   "metadata": {},
   "outputs": [
    {
     "data": {
      "text/plain": [
       "286500"
      ]
     },
     "execution_count": 28,
     "metadata": {},
     "output_type": "execute_result"
    }
   ],
   "source": [
    "df.count()"
   ]
  },
  {
   "cell_type": "code",
   "execution_count": 8,
   "metadata": {},
   "outputs": [
    {
     "data": {
      "text/plain": [
       "8346"
      ]
     },
     "execution_count": 8,
     "metadata": {},
     "output_type": "execute_result"
    }
   ],
   "source": [
    "##identify empty userIds\n",
    "dfp[dfp.userId == '']['userId'].count()"
   ]
  },
  {
   "cell_type": "code",
   "execution_count": 5,
   "metadata": {},
   "outputs": [
    {
     "data": {
      "text/plain": [
       "278154"
      ]
     },
     "execution_count": 5,
     "metadata": {},
     "output_type": "execute_result"
    }
   ],
   "source": [
    "##drop empty userIds\n",
    "df= df[df.userId != \"\"]\n",
    "df.count()"
   ]
  },
  {
   "cell_type": "markdown",
   "metadata": {},
   "source": [
    "# Exploratory Data Analysis\n",
    "When you're working with the full dataset, perform EDA by loading a small subset of the data and doing basic manipulations within Spark. In this workspace, you are already provided a small subset of data you can explore.\n",
    "\n",
    "### Define Churn\n",
    "\n",
    "Once you've done some preliminary analysis, create a column `Churn` to use as the label for your model. I suggest using the `Cancellation Confirmation` events to define your churn, which happen for both paid and free users. As a bonus task, you can also look into the `Downgrade` events.\n",
    "\n",
    "### Explore Data\n",
    "Once you've defined churn, perform some exploratory data analysis to observe the behavior for users who stayed vs users who churned. You can start by exploring aggregates on these two groups of users, observing how much of a specific action they experienced per a certain time unit or number of songs played."
   ]
  },
  {
   "cell_type": "code",
   "execution_count": 32,
   "metadata": {},
   "outputs": [
    {
     "data": {
      "text/html": [
       "<div>\n",
       "<style scoped>\n",
       "    .dataframe tbody tr th:only-of-type {\n",
       "        vertical-align: middle;\n",
       "    }\n",
       "\n",
       "    .dataframe tbody tr th {\n",
       "        vertical-align: top;\n",
       "    }\n",
       "\n",
       "    .dataframe thead th {\n",
       "        text-align: right;\n",
       "    }\n",
       "</style>\n",
       "<table border=\"1\" class=\"dataframe\">\n",
       "  <thead>\n",
       "    <tr style=\"text-align: right;\">\n",
       "      <th></th>\n",
       "      <th>artist</th>\n",
       "      <th>auth</th>\n",
       "      <th>firstName</th>\n",
       "      <th>gender</th>\n",
       "      <th>itemInSession</th>\n",
       "      <th>lastName</th>\n",
       "      <th>length</th>\n",
       "      <th>level</th>\n",
       "      <th>location</th>\n",
       "      <th>method</th>\n",
       "      <th>page</th>\n",
       "      <th>registration</th>\n",
       "      <th>sessionId</th>\n",
       "      <th>song</th>\n",
       "      <th>status</th>\n",
       "      <th>ts</th>\n",
       "      <th>userAgent</th>\n",
       "      <th>userId</th>\n",
       "    </tr>\n",
       "  </thead>\n",
       "  <tbody>\n",
       "    <tr>\n",
       "      <th>0</th>\n",
       "      <td>Martha Tilston</td>\n",
       "      <td>Logged In</td>\n",
       "      <td>Colin</td>\n",
       "      <td>M</td>\n",
       "      <td>50</td>\n",
       "      <td>Freeman</td>\n",
       "      <td>277.89016</td>\n",
       "      <td>paid</td>\n",
       "      <td>Bakersfield, CA</td>\n",
       "      <td>PUT</td>\n",
       "      <td>NextSong</td>\n",
       "      <td>1.538173e+12</td>\n",
       "      <td>29</td>\n",
       "      <td>Rockpools</td>\n",
       "      <td>200</td>\n",
       "      <td>1538352117000</td>\n",
       "      <td>Mozilla/5.0 (Windows NT 6.1; WOW64; rv:31.0) G...</td>\n",
       "      <td>30</td>\n",
       "    </tr>\n",
       "    <tr>\n",
       "      <th>1</th>\n",
       "      <td>Five Iron Frenzy</td>\n",
       "      <td>Logged In</td>\n",
       "      <td>Micah</td>\n",
       "      <td>M</td>\n",
       "      <td>79</td>\n",
       "      <td>Long</td>\n",
       "      <td>236.09424</td>\n",
       "      <td>free</td>\n",
       "      <td>Boston-Cambridge-Newton, MA-NH</td>\n",
       "      <td>PUT</td>\n",
       "      <td>NextSong</td>\n",
       "      <td>1.538332e+12</td>\n",
       "      <td>8</td>\n",
       "      <td>Canada</td>\n",
       "      <td>200</td>\n",
       "      <td>1538352180000</td>\n",
       "      <td>\"Mozilla/5.0 (Windows NT 6.1; WOW64) AppleWebK...</td>\n",
       "      <td>9</td>\n",
       "    </tr>\n",
       "    <tr>\n",
       "      <th>2</th>\n",
       "      <td>Adam Lambert</td>\n",
       "      <td>Logged In</td>\n",
       "      <td>Colin</td>\n",
       "      <td>M</td>\n",
       "      <td>51</td>\n",
       "      <td>Freeman</td>\n",
       "      <td>282.82730</td>\n",
       "      <td>paid</td>\n",
       "      <td>Bakersfield, CA</td>\n",
       "      <td>PUT</td>\n",
       "      <td>NextSong</td>\n",
       "      <td>1.538173e+12</td>\n",
       "      <td>29</td>\n",
       "      <td>Time For Miracles</td>\n",
       "      <td>200</td>\n",
       "      <td>1538352394000</td>\n",
       "      <td>Mozilla/5.0 (Windows NT 6.1; WOW64; rv:31.0) G...</td>\n",
       "      <td>30</td>\n",
       "    </tr>\n",
       "    <tr>\n",
       "      <th>3</th>\n",
       "      <td>Enigma</td>\n",
       "      <td>Logged In</td>\n",
       "      <td>Micah</td>\n",
       "      <td>M</td>\n",
       "      <td>80</td>\n",
       "      <td>Long</td>\n",
       "      <td>262.71302</td>\n",
       "      <td>free</td>\n",
       "      <td>Boston-Cambridge-Newton, MA-NH</td>\n",
       "      <td>PUT</td>\n",
       "      <td>NextSong</td>\n",
       "      <td>1.538332e+12</td>\n",
       "      <td>8</td>\n",
       "      <td>Knocking On Forbidden Doors</td>\n",
       "      <td>200</td>\n",
       "      <td>1538352416000</td>\n",
       "      <td>\"Mozilla/5.0 (Windows NT 6.1; WOW64) AppleWebK...</td>\n",
       "      <td>9</td>\n",
       "    </tr>\n",
       "    <tr>\n",
       "      <th>4</th>\n",
       "      <td>Daft Punk</td>\n",
       "      <td>Logged In</td>\n",
       "      <td>Colin</td>\n",
       "      <td>M</td>\n",
       "      <td>52</td>\n",
       "      <td>Freeman</td>\n",
       "      <td>223.60771</td>\n",
       "      <td>paid</td>\n",
       "      <td>Bakersfield, CA</td>\n",
       "      <td>PUT</td>\n",
       "      <td>NextSong</td>\n",
       "      <td>1.538173e+12</td>\n",
       "      <td>29</td>\n",
       "      <td>Harder Better Faster Stronger</td>\n",
       "      <td>200</td>\n",
       "      <td>1538352676000</td>\n",
       "      <td>Mozilla/5.0 (Windows NT 6.1; WOW64; rv:31.0) G...</td>\n",
       "      <td>30</td>\n",
       "    </tr>\n",
       "  </tbody>\n",
       "</table>\n",
       "</div>"
      ],
      "text/plain": [
       "             artist       auth firstName gender  itemInSession lastName  \\\n",
       "0    Martha Tilston  Logged In     Colin      M             50  Freeman   \n",
       "1  Five Iron Frenzy  Logged In     Micah      M             79     Long   \n",
       "2      Adam Lambert  Logged In     Colin      M             51  Freeman   \n",
       "3            Enigma  Logged In     Micah      M             80     Long   \n",
       "4         Daft Punk  Logged In     Colin      M             52  Freeman   \n",
       "\n",
       "      length level                        location method      page  \\\n",
       "0  277.89016  paid                 Bakersfield, CA    PUT  NextSong   \n",
       "1  236.09424  free  Boston-Cambridge-Newton, MA-NH    PUT  NextSong   \n",
       "2  282.82730  paid                 Bakersfield, CA    PUT  NextSong   \n",
       "3  262.71302  free  Boston-Cambridge-Newton, MA-NH    PUT  NextSong   \n",
       "4  223.60771  paid                 Bakersfield, CA    PUT  NextSong   \n",
       "\n",
       "   registration  sessionId                           song  status  \\\n",
       "0  1.538173e+12         29                      Rockpools     200   \n",
       "1  1.538332e+12          8                         Canada     200   \n",
       "2  1.538173e+12         29              Time For Miracles     200   \n",
       "3  1.538332e+12          8    Knocking On Forbidden Doors     200   \n",
       "4  1.538173e+12         29  Harder Better Faster Stronger     200   \n",
       "\n",
       "              ts                                          userAgent userId  \n",
       "0  1538352117000  Mozilla/5.0 (Windows NT 6.1; WOW64; rv:31.0) G...     30  \n",
       "1  1538352180000  \"Mozilla/5.0 (Windows NT 6.1; WOW64) AppleWebK...      9  \n",
       "2  1538352394000  Mozilla/5.0 (Windows NT 6.1; WOW64; rv:31.0) G...     30  \n",
       "3  1538352416000  \"Mozilla/5.0 (Windows NT 6.1; WOW64) AppleWebK...      9  \n",
       "4  1538352676000  Mozilla/5.0 (Windows NT 6.1; WOW64; rv:31.0) G...     30  "
      ]
     },
     "execution_count": 32,
     "metadata": {},
     "output_type": "execute_result"
    }
   ],
   "source": [
    "dfp.head()"
   ]
  },
  {
   "cell_type": "code",
   "execution_count": 43,
   "metadata": {},
   "outputs": [
    {
     "name": "stdout",
     "output_type": "stream",
     "text": [
      "+--------------------+------+\n",
      "|                page| count|\n",
      "+--------------------+------+\n",
      "|              Cancel|    52|\n",
      "|    Submit Downgrade|    63|\n",
      "|         Thumbs Down|  2546|\n",
      "|                Home| 10082|\n",
      "|           Downgrade|  2055|\n",
      "|         Roll Advert|  3933|\n",
      "|              Logout|  3226|\n",
      "|       Save Settings|   310|\n",
      "|Cancellation Conf...|    52|\n",
      "|               About|   495|\n",
      "|            Settings|  1514|\n",
      "|     Add to Playlist|  6526|\n",
      "|          Add Friend|  4277|\n",
      "|            NextSong|228108|\n",
      "|           Thumbs Up| 12551|\n",
      "|                Help|  1454|\n",
      "|             Upgrade|   499|\n",
      "|               Error|   252|\n",
      "|      Submit Upgrade|   159|\n",
      "+--------------------+------+\n",
      "\n"
     ]
    }
   ],
   "source": [
    "##page interactions\n",
    "df.groupby('page').count().show()"
   ]
  },
  {
   "cell_type": "code",
   "execution_count": 6,
   "metadata": {},
   "outputs": [],
   "source": [
    "##creating a representation and timestamp column\n",
    "new_ts= udf(lambda x: datetime.datetime.fromtimestamp(x/1000.0).strftime(\"%m-%d-%Y %H:%M:%S\"))\n",
    "df = df.withColumn('Updated_registration', new_ts('registration'))\n",
    "df=df.withColumn('Updated_ts', new_ts('ts'))"
   ]
  },
  {
   "cell_type": "code",
   "execution_count": 7,
   "metadata": {},
   "outputs": [],
   "source": [
    "#defining downgrade\n",
    "downgrade_value= udf(lambda x:1 if x== \"Submit Downgrade\" else 0, IntegerType())\n",
    "df=df.withColumn(\"downgrade_value\", downgrade_value(\"page\"))\n",
    "\n",
    "##identify users who downgraded\n",
    "dg_window=Window.partitionBy('userId')\n",
    "df=df.withColumn(\"user_downgrade\", max('downgrade_value').over(dg_window))\n",
    "\n",
    "##defining churn\n",
    "churn_value=udf(lambda x:1 if x== \"Cancellation Confirmation\" else 0, IntegerType())\n",
    "df=df.withColumn(\"churn_value\", churn_value(\"page\"))\n",
    "\n",
    "##identify users who churned\n",
    "churn_window=Window.partitionBy('userId')\n",
    "df=df.withColumn(\"user_churn\", max('churn_value').over(churn_window))"
   ]
  },
  {
   "cell_type": "code",
   "execution_count": 8,
   "metadata": {},
   "outputs": [
    {
     "data": {
      "text/html": [
       "<div>\n",
       "<style scoped>\n",
       "    .dataframe tbody tr th:only-of-type {\n",
       "        vertical-align: middle;\n",
       "    }\n",
       "\n",
       "    .dataframe tbody tr th {\n",
       "        vertical-align: top;\n",
       "    }\n",
       "\n",
       "    .dataframe thead th {\n",
       "        text-align: right;\n",
       "    }\n",
       "</style>\n",
       "<table border=\"1\" class=\"dataframe\">\n",
       "  <thead>\n",
       "    <tr style=\"text-align: right;\">\n",
       "      <th></th>\n",
       "      <th>artist</th>\n",
       "      <th>auth</th>\n",
       "      <th>firstName</th>\n",
       "      <th>gender</th>\n",
       "      <th>itemInSession</th>\n",
       "      <th>lastName</th>\n",
       "      <th>length</th>\n",
       "      <th>level</th>\n",
       "      <th>location</th>\n",
       "      <th>method</th>\n",
       "      <th>...</th>\n",
       "      <th>status</th>\n",
       "      <th>ts</th>\n",
       "      <th>userAgent</th>\n",
       "      <th>userId</th>\n",
       "      <th>Updated_registration</th>\n",
       "      <th>Updated_ts</th>\n",
       "      <th>downgrade_value</th>\n",
       "      <th>user_downgrade</th>\n",
       "      <th>churn_value</th>\n",
       "      <th>user_churn</th>\n",
       "    </tr>\n",
       "  </thead>\n",
       "  <tbody>\n",
       "    <tr>\n",
       "      <th>0</th>\n",
       "      <td>Sleeping With Sirens</td>\n",
       "      <td>Logged In</td>\n",
       "      <td>Darianna</td>\n",
       "      <td>F</td>\n",
       "      <td>0</td>\n",
       "      <td>Carpenter</td>\n",
       "      <td>202.97098</td>\n",
       "      <td>free</td>\n",
       "      <td>Bridgeport-Stamford-Norwalk, CT</td>\n",
       "      <td>PUT</td>\n",
       "      <td>...</td>\n",
       "      <td>200</td>\n",
       "      <td>1539003534000</td>\n",
       "      <td>\"Mozilla/5.0 (iPhone; CPU iPhone OS 7_1_2 like...</td>\n",
       "      <td>100010</td>\n",
       "      <td>09-27-2018 02:45:40</td>\n",
       "      <td>10-08-2018 12:58:54</td>\n",
       "      <td>0</td>\n",
       "      <td>0</td>\n",
       "      <td>0</td>\n",
       "      <td>0</td>\n",
       "    </tr>\n",
       "    <tr>\n",
       "      <th>1</th>\n",
       "      <td>Francesca Battistelli</td>\n",
       "      <td>Logged In</td>\n",
       "      <td>Darianna</td>\n",
       "      <td>F</td>\n",
       "      <td>1</td>\n",
       "      <td>Carpenter</td>\n",
       "      <td>196.54485</td>\n",
       "      <td>free</td>\n",
       "      <td>Bridgeport-Stamford-Norwalk, CT</td>\n",
       "      <td>PUT</td>\n",
       "      <td>...</td>\n",
       "      <td>200</td>\n",
       "      <td>1539003736000</td>\n",
       "      <td>\"Mozilla/5.0 (iPhone; CPU iPhone OS 7_1_2 like...</td>\n",
       "      <td>100010</td>\n",
       "      <td>09-27-2018 02:45:40</td>\n",
       "      <td>10-08-2018 13:02:16</td>\n",
       "      <td>0</td>\n",
       "      <td>0</td>\n",
       "      <td>0</td>\n",
       "      <td>0</td>\n",
       "    </tr>\n",
       "    <tr>\n",
       "      <th>2</th>\n",
       "      <td>Brutha</td>\n",
       "      <td>Logged In</td>\n",
       "      <td>Darianna</td>\n",
       "      <td>F</td>\n",
       "      <td>2</td>\n",
       "      <td>Carpenter</td>\n",
       "      <td>263.13098</td>\n",
       "      <td>free</td>\n",
       "      <td>Bridgeport-Stamford-Norwalk, CT</td>\n",
       "      <td>PUT</td>\n",
       "      <td>...</td>\n",
       "      <td>200</td>\n",
       "      <td>1539003932000</td>\n",
       "      <td>\"Mozilla/5.0 (iPhone; CPU iPhone OS 7_1_2 like...</td>\n",
       "      <td>100010</td>\n",
       "      <td>09-27-2018 02:45:40</td>\n",
       "      <td>10-08-2018 13:05:32</td>\n",
       "      <td>0</td>\n",
       "      <td>0</td>\n",
       "      <td>0</td>\n",
       "      <td>0</td>\n",
       "    </tr>\n",
       "    <tr>\n",
       "      <th>3</th>\n",
       "      <td>None</td>\n",
       "      <td>Logged In</td>\n",
       "      <td>Darianna</td>\n",
       "      <td>F</td>\n",
       "      <td>3</td>\n",
       "      <td>Carpenter</td>\n",
       "      <td>NaN</td>\n",
       "      <td>free</td>\n",
       "      <td>Bridgeport-Stamford-Norwalk, CT</td>\n",
       "      <td>PUT</td>\n",
       "      <td>...</td>\n",
       "      <td>307</td>\n",
       "      <td>1539003933000</td>\n",
       "      <td>\"Mozilla/5.0 (iPhone; CPU iPhone OS 7_1_2 like...</td>\n",
       "      <td>100010</td>\n",
       "      <td>09-27-2018 02:45:40</td>\n",
       "      <td>10-08-2018 13:05:33</td>\n",
       "      <td>0</td>\n",
       "      <td>0</td>\n",
       "      <td>0</td>\n",
       "      <td>0</td>\n",
       "    </tr>\n",
       "    <tr>\n",
       "      <th>4</th>\n",
       "      <td>Josh Ritter</td>\n",
       "      <td>Logged In</td>\n",
       "      <td>Darianna</td>\n",
       "      <td>F</td>\n",
       "      <td>4</td>\n",
       "      <td>Carpenter</td>\n",
       "      <td>316.23791</td>\n",
       "      <td>free</td>\n",
       "      <td>Bridgeport-Stamford-Norwalk, CT</td>\n",
       "      <td>PUT</td>\n",
       "      <td>...</td>\n",
       "      <td>200</td>\n",
       "      <td>1539004195000</td>\n",
       "      <td>\"Mozilla/5.0 (iPhone; CPU iPhone OS 7_1_2 like...</td>\n",
       "      <td>100010</td>\n",
       "      <td>09-27-2018 02:45:40</td>\n",
       "      <td>10-08-2018 13:09:55</td>\n",
       "      <td>0</td>\n",
       "      <td>0</td>\n",
       "      <td>0</td>\n",
       "      <td>0</td>\n",
       "    </tr>\n",
       "  </tbody>\n",
       "</table>\n",
       "<p>5 rows × 24 columns</p>\n",
       "</div>"
      ],
      "text/plain": [
       "                  artist       auth firstName gender  itemInSession  \\\n",
       "0   Sleeping With Sirens  Logged In  Darianna      F              0   \n",
       "1  Francesca Battistelli  Logged In  Darianna      F              1   \n",
       "2                 Brutha  Logged In  Darianna      F              2   \n",
       "3                   None  Logged In  Darianna      F              3   \n",
       "4            Josh Ritter  Logged In  Darianna      F              4   \n",
       "\n",
       "    lastName     length level                         location method  \\\n",
       "0  Carpenter  202.97098  free  Bridgeport-Stamford-Norwalk, CT    PUT   \n",
       "1  Carpenter  196.54485  free  Bridgeport-Stamford-Norwalk, CT    PUT   \n",
       "2  Carpenter  263.13098  free  Bridgeport-Stamford-Norwalk, CT    PUT   \n",
       "3  Carpenter        NaN  free  Bridgeport-Stamford-Norwalk, CT    PUT   \n",
       "4  Carpenter  316.23791  free  Bridgeport-Stamford-Norwalk, CT    PUT   \n",
       "\n",
       "     ...     status             ts  \\\n",
       "0    ...        200  1539003534000   \n",
       "1    ...        200  1539003736000   \n",
       "2    ...        200  1539003932000   \n",
       "3    ...        307  1539003933000   \n",
       "4    ...        200  1539004195000   \n",
       "\n",
       "                                           userAgent  userId  \\\n",
       "0  \"Mozilla/5.0 (iPhone; CPU iPhone OS 7_1_2 like...  100010   \n",
       "1  \"Mozilla/5.0 (iPhone; CPU iPhone OS 7_1_2 like...  100010   \n",
       "2  \"Mozilla/5.0 (iPhone; CPU iPhone OS 7_1_2 like...  100010   \n",
       "3  \"Mozilla/5.0 (iPhone; CPU iPhone OS 7_1_2 like...  100010   \n",
       "4  \"Mozilla/5.0 (iPhone; CPU iPhone OS 7_1_2 like...  100010   \n",
       "\n",
       "   Updated_registration           Updated_ts downgrade_value user_downgrade  \\\n",
       "0   09-27-2018 02:45:40  10-08-2018 12:58:54               0              0   \n",
       "1   09-27-2018 02:45:40  10-08-2018 13:02:16               0              0   \n",
       "2   09-27-2018 02:45:40  10-08-2018 13:05:32               0              0   \n",
       "3   09-27-2018 02:45:40  10-08-2018 13:05:33               0              0   \n",
       "4   09-27-2018 02:45:40  10-08-2018 13:09:55               0              0   \n",
       "\n",
       "  churn_value user_churn  \n",
       "0           0          0  \n",
       "1           0          0  \n",
       "2           0          0  \n",
       "3           0          0  \n",
       "4           0          0  \n",
       "\n",
       "[5 rows x 24 columns]"
      ]
     },
     "execution_count": 8,
     "metadata": {},
     "output_type": "execute_result"
    }
   ],
   "source": [
    "## pandas dataframe for easy view\n",
    "dfp=df.toPandas()\n",
    "dfp.head()"
   ]
  },
  {
   "cell_type": "code",
   "execution_count": 12,
   "metadata": {},
   "outputs": [
    {
     "name": "stdout",
     "output_type": "stream",
     "text": [
      "+-----+------+\n",
      "|level| count|\n",
      "+-----+------+\n",
      "| free| 55721|\n",
      "| paid|222433|\n",
      "+-----+------+\n",
      "\n"
     ]
    }
   ],
   "source": [
    "##type/level of customers\n",
    "df.groupby('level').count().show()"
   ]
  },
  {
   "cell_type": "code",
   "execution_count": 9,
   "metadata": {},
   "outputs": [
    {
     "name": "stdout",
     "output_type": "stream",
     "text": [
      "+----------+-----+-----+\n",
      "|user_churn|level|count|\n",
      "+----------+-----+-----+\n",
      "|         0| free|  149|\n",
      "|         0| paid|  129|\n",
      "|         1| paid|   36|\n",
      "|         1| free|   46|\n",
      "+----------+-----+-----+\n",
      "\n"
     ]
    }
   ],
   "source": [
    "## type/level(subscription) distribution between churn and regular users\n",
    "df.drop_duplicates(['userId','level']).groupby(['user_churn','level']).count().sort(\"user_churn\").show()"
   ]
  },
  {
   "cell_type": "code",
   "execution_count": 19,
   "metadata": {},
   "outputs": [
    {
     "data": {
      "text/plain": [
       "<matplotlib.axes._subplots.AxesSubplot at 0x7fd868408470>"
      ]
     },
     "execution_count": 19,
     "metadata": {},
     "output_type": "execute_result"
    },
    {
     "data": {
      "image/png": "[encoded data removed]",
      "text/plain": [
       "<matplotlib.figure.Figure at 0x7fd867af3160>"
      ]
     },
     "metadata": {
      "needs_background": "light"
     },
     "output_type": "display_data"
    }
   ],
   "source": [
    "## graphical type/level(subscription) distribution between churn and regular users\n",
    "df_churn_level= df.drop_duplicates(['userId','level']).groupby(['user_churn','level']).count().sort(\"user_churn\").toPandas()\n",
    "sns.barplot(x='user_churn', y='count', data=df_churn_level, hue='level')"
   ]
  },
  {
   "cell_type": "markdown",
   "metadata": {},
   "source": [
    "Based on the barplot, it can be observed that free users are more likely to cancel subscription."
   ]
  },
  {
   "cell_type": "code",
   "execution_count": 12,
   "metadata": {},
   "outputs": [
    {
     "data": {
      "text/plain": [
       "Text(0.5,1,'% of event occurence for active and cancelled users')"
      ]
     },
     "execution_count": 12,
     "metadata": {},
     "output_type": "execute_result"
    },
    {
     "data": {
      "image/png": "[encoded data removed]",
      "text/plain": [
       "<matplotlib.figure.Figure at 0x7f13b3ea0198>"
      ]
     },
     "metadata": {
      "needs_background": "light"
     },
     "output_type": "display_data"
    }
   ],
   "source": [
    "###Active vs Cancelled Users\n",
    "\n",
    "users_1=dfp[dfp.user_churn==1].groupby(['page'])['userId'].count().drop('NextSong')\n",
    "users_1=users_1/users_1.sum()*100\n",
    "\n",
    "users_0=dfp[dfp.user_churn==0].groupby(['page'])['userId'].count().drop('NextSong')\n",
    "users_0=users_0/users_0.sum()*100\n",
    "\n",
    "users_df=pd.DataFrame({'Cancelled':users_1, 'Active users':users_0})\n",
    "axis=users_df.plot(kind='barh', figsize=(8,10));\n",
    "axis.set_xlabel('% of event occurence')\n",
    "axis.set_title('% of event occurence for active and cancelled users')"
   ]
  },
  {
   "cell_type": "markdown",
   "metadata": {},
   "source": [
    "Active users use features like Thumbs up , add to playlist  and add friends more than customers who end up cancelling their subscription with Sparkify. Demonstrating better and positive engagement. "
   ]
  },
  {
   "cell_type": "code",
   "execution_count": 13,
   "metadata": {},
   "outputs": [
    {
     "data": {
      "image/png": "[encoded data removed]",
      "text/plain": [
       "<matplotlib.figure.Figure at 0x7f139eff8390>"
      ]
     },
     "metadata": {
      "needs_background": "light"
     },
     "output_type": "display_data"
    }
   ],
   "source": [
    "##number of songs played per session for free and paid users\n",
    "\n",
    "total_songs_df= df.where('page==\"NextSong\"').groupby(['user_churn','userId','sessionId','level']).count()\\\n",
    ".groupby(['user_churn','userId','level']).agg({'count':'avg'})\\\n",
    ".withColumnRenamed('avg(count)','avg_played_songs').toPandas()\n",
    "\n",
    "axis=sns.barplot(data=total_songs_df,x='user_churn',y='avg_played_songs',hue='level')"
   ]
  },
  {
   "cell_type": "markdown",
   "metadata": {},
   "source": [
    "From the barplot, it is observed that paid users who don't churn listen to more number of songs per session compared to customers who churned."
   ]
  },
  {
   "cell_type": "markdown",
   "metadata": {},
   "source": [
    "# Feature Engineering\n",
    "Once you've familiarized yourself with the data, build out the features you find promising to train your model on. To work with the full dataset, you can follow the following steps.\n",
    "- Write a script to extract the necessary features from the smaller subset of data\n",
    "- Ensure that your script is scalable, using the best practices discussed in Lesson 3\n",
    "- Try your script on the full data set, debugging your script if necessary\n",
    "\n",
    "If you are working in the classroom workspace, you can just extract features based on the small subset of data contained here. Be sure to transfer over this work to the larger dataset when you work on your Spark cluster."
   ]
  },
  {
   "cell_type": "markdown",
   "metadata": {},
   "source": [
    "_I have created 9 features for the model below:_"
   ]
  },
  {
   "cell_type": "code",
   "execution_count": 10,
   "metadata": {},
   "outputs": [
    {
     "name": "stdout",
     "output_type": "stream",
     "text": [
      "+------+-----------+\n",
      "|userId|total_songs|\n",
      "+------+-----------+\n",
      "|100010|        381|\n",
      "|200002|        474|\n",
      "|   125|         11|\n",
      "|    51|       2464|\n",
      "|   124|       4825|\n",
      "|     7|        201|\n",
      "|    54|       3437|\n",
      "|    15|       2278|\n",
      "|   155|       1002|\n",
      "|   132|       2304|\n",
      "|   154|        118|\n",
      "|100014|        310|\n",
      "|   101|       2149|\n",
      "|    11|        848|\n",
      "|   138|       2469|\n",
      "|300017|       4428|\n",
      "|    29|       3603|\n",
      "|    69|       1342|\n",
      "|100021|        319|\n",
      "|    42|       4257|\n",
      "+------+-----------+\n",
      "only showing top 20 rows\n",
      "\n"
     ]
    }
   ],
   "source": [
    "##1- Number of songs listened to by customers\n",
    "feature_1= df\\\n",
    "        .select('userId','song')\\\n",
    "        .groupby('userId')\\\n",
    "        .count()\\\n",
    "        .withColumnRenamed('count','total_songs')\n",
    "feature_1.show()"
   ]
  },
  {
   "cell_type": "code",
   "execution_count": 11,
   "metadata": {},
   "outputs": [
    {
     "name": "stdout",
     "output_type": "stream",
     "text": [
      "+------+---------------+\n",
      "|userId|total_thumbs_up|\n",
      "+------+---------------+\n",
      "|100010|             17|\n",
      "|200002|             21|\n",
      "|    51|            100|\n",
      "|   124|            171|\n",
      "|     7|              7|\n",
      "|    54|            163|\n",
      "|    15|             81|\n",
      "|   155|             58|\n",
      "|   132|             96|\n",
      "|   154|             11|\n",
      "|100014|             17|\n",
      "|   101|             86|\n",
      "|    11|             40|\n",
      "|   138|             95|\n",
      "|300017|            303|\n",
      "|    29|            154|\n",
      "|    69|             72|\n",
      "|100021|             11|\n",
      "|    42|            166|\n",
      "|   112|              9|\n",
      "+------+---------------+\n",
      "only showing top 20 rows\n",
      "\n"
     ]
    }
   ],
   "source": [
    "##2- Number of thumbs up by customers\n",
    "feature_2= df\\\n",
    "        .select('userId','page')\\\n",
    "        .where(df.page=='Thumbs Up')\\\n",
    "        .groupby('userId')\\\n",
    "        .count()\\\n",
    "        .withColumnRenamed('count','total_thumbs_up')\n",
    "feature_2.show()"
   ]
  },
  {
   "cell_type": "code",
   "execution_count": 12,
   "metadata": {},
   "outputs": [
    {
     "name": "stdout",
     "output_type": "stream",
     "text": [
      "+------+-----------------+\n",
      "|userId|total_thumbs_down|\n",
      "+------+-----------------+\n",
      "|100010|                5|\n",
      "|200002|                6|\n",
      "|    51|               21|\n",
      "|   124|               41|\n",
      "|     7|                1|\n",
      "|    15|               14|\n",
      "|    54|               29|\n",
      "|   155|                3|\n",
      "|   132|               17|\n",
      "|100014|                3|\n",
      "|   101|               16|\n",
      "|    11|                9|\n",
      "|   138|               24|\n",
      "|300017|               28|\n",
      "|    29|               22|\n",
      "|    69|                9|\n",
      "|100021|                5|\n",
      "|    42|               25|\n",
      "|   112|                3|\n",
      "|    73|                7|\n",
      "+------+-----------------+\n",
      "only showing top 20 rows\n",
      "\n"
     ]
    }
   ],
   "source": [
    "##3- Number of thumbs down by customers\n",
    "feature_3= df\\\n",
    "        .select('userId','page')\\\n",
    "        .where(df.page=='Thumbs Down')\\\n",
    "        .groupby('userId')\\\n",
    "        .count()\\\n",
    "        .withColumnRenamed('count','total_thumbs_down')\n",
    "feature_3.show()"
   ]
  },
  {
   "cell_type": "code",
   "execution_count": 13,
   "metadata": {},
   "outputs": [
    {
     "name": "stdout",
     "output_type": "stream",
     "text": [
      "+-------+------------------+-----------------+\n",
      "|summary|            userId|  add_to_playlist|\n",
      "+-------+------------------+-----------------+\n",
      "|  count|               215|              215|\n",
      "|   mean| 66103.63720930232|30.35348837209302|\n",
      "| stddev|106360.47999565038| 32.8520568555997|\n",
      "|    min|                10|                1|\n",
      "|    max|                99|              240|\n",
      "+-------+------------------+-----------------+\n",
      "\n"
     ]
    }
   ],
   "source": [
    "##4- Number of songs added\n",
    "feature_4=df\\\n",
    "        .select('userId','page')\\\n",
    "        .where(df.page=='Add to Playlist')\\\n",
    "        .groupby('userId')\\\n",
    "        .count()\\\n",
    "        .withColumnRenamed('count','add_to_playlist')\n",
    "feature_4.describe().show()"
   ]
  },
  {
   "cell_type": "code",
   "execution_count": 14,
   "metadata": {},
   "outputs": [
    {
     "name": "stdout",
     "output_type": "stream",
     "text": [
      "+-------+------------------+------------------+\n",
      "|summary|            userId|        add_friend|\n",
      "+-------+------------------+------------------+\n",
      "|  count|               206|               206|\n",
      "|   mean| 66076.91262135922|20.762135922330096|\n",
      "| stddev|106860.60517425007|20.646779074405007|\n",
      "|    min|                10|                 1|\n",
      "|    max|                99|               143|\n",
      "+-------+------------------+------------------+\n",
      "\n"
     ]
    }
   ],
   "source": [
    "##5- Number of friends added\n",
    "feature_5=df\\\n",
    "        .select('userId','page')\\\n",
    "        .where(df.page=='Add Friend')\\\n",
    "        .groupby('userId')\\\n",
    "        .count()\\\n",
    "        .withColumnRenamed('count','add_friend')\n",
    "feature_5.describe().show()"
   ]
  },
  {
   "cell_type": "code",
   "execution_count": 15,
   "metadata": {},
   "outputs": [
    {
     "name": "stdout",
     "output_type": "stream",
     "text": [
      "+-------+------------------+-------------------+\n",
      "|summary|            userId|           lifetime|\n",
      "+-------+------------------+-------------------+\n",
      "|  count|               225|                225|\n",
      "|   mean|65391.013333333336|   79.8456834876543|\n",
      "| stddev|105396.47791907164|  37.66147001861254|\n",
      "|    min|                10|0.31372685185185184|\n",
      "|    max|                99|  256.3776736111111|\n",
      "+-------+------------------+-------------------+\n",
      "\n"
     ]
    }
   ],
   "source": [
    "##6- Time since registration\n",
    "feature_6=df\\\n",
    "        .select('userId','registration','ts')\\\n",
    "        .withColumn('lifetime',(df.ts-df.registration))\\\n",
    "        .groupby('userId')\\\n",
    "        .agg({'lifetime':'max'})\\\n",
    "        .withColumnRenamed('max(lifetime)','lifetime')\\\n",
    "        .select('userId',(col('lifetime')/1000/3600/24).alias('lifetime'))\n",
    "feature_6.describe().show()"
   ]
  },
  {
   "cell_type": "code",
   "execution_count": 16,
   "metadata": {},
   "outputs": [
    {
     "name": "stdout",
     "output_type": "stream",
     "text": [
      "+-------+------------------+--------------------+\n",
      "|summary|            userId|total_listening_time|\n",
      "+-------+------------------+--------------------+\n",
      "|  count|               225|                 225|\n",
      "|   mean|65391.013333333336|  252558.32065155543|\n",
      "| stddev|105396.47791907164|   275396.4038847635|\n",
      "|    min|                10|           691.66884|\n",
      "|    max|                99|  1991154.9155799907|\n",
      "+-------+------------------+--------------------+\n",
      "\n"
     ]
    }
   ],
   "source": [
    "##7- Total length of listening\n",
    "feature_7=df\\\n",
    "        .select('userId','length')\\\n",
    "        .groupby('userId')\\\n",
    "        .sum()\\\n",
    "        .withColumnRenamed('sum(length)', 'total_listening_time')\n",
    "feature_7.describe().show()"
   ]
  },
  {
   "cell_type": "code",
   "execution_count": 17,
   "metadata": {},
   "outputs": [
    {
     "name": "stdout",
     "output_type": "stream",
     "text": [
      "+-------+------------------+-------------------+\n",
      "|summary|            userId|             gender|\n",
      "+-------+------------------+-------------------+\n",
      "|  count|               225|                225|\n",
      "|   mean|65391.013333333336| 0.5377777777777778|\n",
      "| stddev|105396.47791907165|0.49968243883744773|\n",
      "|    min|                10|                  0|\n",
      "|    max|                99|                  1|\n",
      "+-------+------------------+-------------------+\n",
      "\n"
     ]
    }
   ],
   "source": [
    "##8- Gender \n",
    "feature_8=df\\\n",
    "        .select('userId','gender')\\\n",
    "        .dropDuplicates()\\\n",
    "        .replace(['F','M'],['0','1'],'gender')\\\n",
    "        .select('userId',col('gender').cast('int'))\n",
    "feature_8.describe().show()"
   ]
  },
  {
   "cell_type": "code",
   "execution_count": 18,
   "metadata": {},
   "outputs": [
    {
     "name": "stdout",
     "output_type": "stream",
     "text": [
      "+-------+------------------+-------------------+\n",
      "|summary|            userId|total_artist_played|\n",
      "+-------+------------------+-------------------+\n",
      "|  count|               225|                225|\n",
      "|   mean|65391.013333333336|  696.3777777777777|\n",
      "| stddev|105396.47791907164|  603.9518698630802|\n",
      "|    min|                10|                  3|\n",
      "|    max|                99|               3544|\n",
      "+-------+------------------+-------------------+\n",
      "\n"
     ]
    }
   ],
   "source": [
    "##9 - Number of artists the customer has listened to\n",
    "feature_9=df\\\n",
    "        .filter(df.page==\"NextSong\")\\\n",
    "        .select('userId','artist')\\\n",
    "        .dropDuplicates()\\\n",
    "        .groupby('userId')\\\n",
    "        .count()\\\n",
    "        .withColumnRenamed('count', 'total_artist_played')\n",
    "feature_9.describe().show()"
   ]
  },
  {
   "cell_type": "code",
   "execution_count": 30,
   "metadata": {},
   "outputs": [
    {
     "name": "stdout",
     "output_type": "stream",
     "text": [
      "+------+------+\n",
      "|userId|target|\n",
      "+------+------+\n",
      "|100010|     0|\n",
      "|200002|     0|\n",
      "|   125|     1|\n",
      "|   124|     0|\n",
      "|    51|     1|\n",
      "|     7|     0|\n",
      "|    15|     0|\n",
      "|    54|     1|\n",
      "|   155|     0|\n",
      "|100014|     1|\n",
      "|   132|     0|\n",
      "|   154|     0|\n",
      "|   101|     1|\n",
      "|    11|     0|\n",
      "|   138|     0|\n",
      "|300017|     0|\n",
      "|100021|     1|\n",
      "|    29|     1|\n",
      "|    69|     0|\n",
      "|   112|     0|\n",
      "+------+------+\n",
      "only showing top 20 rows\n",
      "\n"
     ]
    }
   ],
   "source": [
    "##churn label\n",
    "target=df.select('userId',col('user_churn').alias('target')).dropDuplicates()\n",
    "target.show()"
   ]
  },
  {
   "cell_type": "code",
   "execution_count": 31,
   "metadata": {},
   "outputs": [
    {
     "name": "stdout",
     "output_type": "stream",
     "text": [
      "+-----------+---------------+-----------------+---------------+----------+------------------+--------------------+------+-------------------+------+\n",
      "|total_songs|total_thumbs_up|total_thumbs_down|add_to_playlist|add_friend|          lifetime|total_listening_time|gender|total_artist_played|target|\n",
      "+-----------+---------------+-----------------+---------------+----------+------------------+--------------------+------+-------------------+------+\n",
      "|        381|             17|                5|              7|         4|  55.6436574074074|   66940.89735000003|     0|                252|     0|\n",
      "|        474|             21|                6|              8|         4| 70.07462962962963|   94008.87593999993|     1|                339|     0|\n",
      "|       4825|            171|               41|            118|        74|131.55591435185184|  1012312.0927899999|     0|               2232|     0|\n",
      "|       2464|            100|               21|             52|        28|19.455844907407407|   523275.8428000004|     1|               1385|     1|\n",
      "|        201|              7|                1|              5|         1| 72.77818287037037|   38034.08710000002|     1|                142|     0|\n",
      "|       2278|             81|               14|             59|        31|56.513576388888886|  477307.60581000015|     1|               1302|     0|\n",
      "|       3437|            163|               29|             72|        33|110.75168981481481|   711344.9195400011|     0|               1744|     1|\n",
      "|       1002|             58|                3|             24|        11|23.556018518518517|         198779.2919|     0|                643|     0|\n",
      "|        310|             17|                3|              7|         6| 85.08340277777778|   67703.47208000004|     1|                233|     1|\n",
      "|       2304|             96|               17|             38|        41|  66.8891087962963|   483118.9038399997|     0|               1299|     0|\n",
      "+-----------+---------------+-----------------+---------------+----------+------------------+--------------------+------+-------------------+------+\n",
      "only showing top 10 rows\n",
      "\n"
     ]
    }
   ],
   "source": [
    "##Merge all features and label together\n",
    "data=feature_1.join(feature_2,'userId','inner')\\\n",
    "            .join(feature_3,'userId','inner')\\\n",
    "            .join(feature_4,'userId','inner')\\\n",
    "            .join(feature_5,'userId','inner')\\\n",
    "            .join(feature_6,'userId','inner')\\\n",
    "            .join(feature_7,'userId','inner')\\\n",
    "            .join(feature_8,'userId','inner')\\\n",
    "            .join(feature_9,'userId','inner')\\\n",
    "            .join(target,'userId','inner')\\\n",
    "            .drop('userId')\\\n",
    "            .fillna(0)\n",
    "\n",
    "data.show(10)"
   ]
  },
  {
   "cell_type": "code",
   "execution_count": 88,
   "metadata": {},
   "outputs": [],
   "source": [
    "final_data_pd=data.toPandas()"
   ]
  },
  {
   "cell_type": "code",
   "execution_count": 25,
   "metadata": {},
   "outputs": [
    {
     "data": {
      "text/plain": [
       "total_songs             0\n",
       "total_thumbs_up         0\n",
       "total_thumbs_down       0\n",
       "add_to_playlist         0\n",
       "add_friend              0\n",
       "lifetime                0\n",
       "total_listening_time    0\n",
       "gender                  0\n",
       "total_artist_played     0\n",
       "target                  0\n",
       "dtype: int64"
      ]
     },
     "execution_count": 25,
     "metadata": {},
     "output_type": "execute_result"
    }
   ],
   "source": [
    "###checking for nulls\n",
    "final_data_pd.isnull().sum() ##no nulls"
   ]
  },
  {
   "cell_type": "markdown",
   "metadata": {},
   "source": [
    "# Modeling\n",
    "Split the full dataset into train, test, and validation sets. Test out several of the machine learning methods you learned. Evaluate the accuracy of the various models, tuning parameters as necessary. Determine your winning model based on test accuracy and report results on the validation set. Since the churned users are a fairly small subset, I suggest using F1 score as the metric to optimize."
   ]
  },
  {
   "cell_type": "code",
   "execution_count": 35,
   "metadata": {},
   "outputs": [],
   "source": [
    "###vectorise the features\n",
    "cols=[\"total_songs\",\"total_thumbs_up\",\"total_thumbs_down\",\"add_to_playlist\",\"add_friend\",\\\n",
    "      \"total_listening_time\",\"total_artist_played\",\"gender\",\"lifetime\"]\n",
    "assembler=VectorAssembler(inputCols=cols, outputCol=\"NumFeatures\")\n",
    "data=assembler.transform(data)\n"
   ]
  },
  {
   "cell_type": "code",
   "execution_count": 37,
   "metadata": {
    "collapsed": true
   },
   "outputs": [
    {
     "name": "stdout",
     "output_type": "stream",
     "text": [
      "+-----------+---------------+-----------------+---------------+----------+------------------+--------------------+------+-------------------+------+--------------------+\n",
      "|total_songs|total_thumbs_up|total_thumbs_down|add_to_playlist|add_friend|          lifetime|total_listening_time|gender|total_artist_played|target|         NumFeatures|\n",
      "+-----------+---------------+-----------------+---------------+----------+------------------+--------------------+------+-------------------+------+--------------------+\n",
      "|        381|             17|                5|              7|         4|  55.6436574074074|   66940.89735000003|     0|                252|     0|[381.0,17.0,5.0,7...|\n",
      "|        474|             21|                6|              8|         4| 70.07462962962963|   94008.87593999993|     1|                339|     0|[474.0,21.0,6.0,8...|\n",
      "|       4825|            171|               41|            118|        74|131.55591435185184|  1012312.0927899999|     0|               2232|     0|[4825.0,171.0,41....|\n",
      "|       2464|            100|               21|             52|        28|19.455844907407407|   523275.8428000004|     1|               1385|     1|[2464.0,100.0,21....|\n",
      "|        201|              7|                1|              5|         1| 72.77818287037037|   38034.08710000002|     1|                142|     0|[201.0,7.0,1.0,5....|\n",
      "|       2278|             81|               14|             59|        31|56.513576388888886|  477307.60581000015|     1|               1302|     0|[2278.0,81.0,14.0...|\n",
      "|       3437|            163|               29|             72|        33|110.75168981481481|   711344.9195400011|     0|               1744|     1|[3437.0,163.0,29....|\n",
      "|       1002|             58|                3|             24|        11|23.556018518518517|         198779.2919|     0|                643|     0|[1002.0,58.0,3.0,...|\n",
      "|        310|             17|                3|              7|         6| 85.08340277777778|   67703.47208000004|     1|                233|     1|[310.0,17.0,3.0,7...|\n",
      "|       2304|             96|               17|             38|        41|  66.8891087962963|   483118.9038399997|     0|               1299|     0|[2304.0,96.0,17.0...|\n",
      "|       2149|             86|               16|             61|        29|53.965937499999995|   447464.0146699989|     1|               1241|     1|[2149.0,86.0,16.0...|\n",
      "|        848|             40|                9|             20|         6|124.47825231481481|  159669.96303999983|     0|                534|     0|[848.0,40.0,9.0,2...|\n",
      "|       2469|             95|               24|             67|        41| 66.62668981481481|   512449.8827599989|     1|               1332|     0|[2469.0,95.0,24.0...|\n",
      "|       4428|            303|               28|            113|        63| 74.35851851851852|   897406.9802100015|     0|               2070|     0|[4428.0,303.0,28....|\n",
      "|        319|             11|                5|              7|         7| 64.73886574074074|   57633.17563999999|     1|                207|     1|[319.0,11.0,5.0,7...|\n",
      "|       3603|            154|               22|             89|        47|60.104050925925925|   754517.5625700009|     1|               1804|     1|[3603.0,154.0,22....|\n",
      "|       1342|             72|                9|             33|        12| 71.42444444444445|   286064.0256399999|     0|                865|     0|[1342.0,72.0,9.0,...|\n",
      "|        292|              9|                3|              7|         7| 87.46262731481481|   53062.74659000002|     1|                195|     0|[292.0,9.0,3.0,7....|\n",
      "|       4257|            166|               25|            104|        52| 67.11364583333334|   881792.9661300007|     0|               2073|     0|[4257.0,166.0,25....|\n",
      "|        457|             14|                7|             11|        11| 49.76208333333333|   94240.35148000003|     0|                334|     1|[457.0,14.0,7.0,1...|\n",
      "+-----------+---------------+-----------------+---------------+----------+------------------+--------------------+------+-------------------+------+--------------------+\n",
      "only showing top 20 rows\n",
      "\n"
     ]
    }
   ],
   "source": [
    "data.show()"
   ]
  },
  {
   "cell_type": "code",
   "execution_count": 38,
   "metadata": {},
   "outputs": [],
   "source": [
    "##standardizing all input features \n",
    "scaler=StandardScaler(inputCol='NumFeatures',outputCol='newFeatures',withStd=True)\n",
    "scaler_model=scaler.fit(data)\n",
    "data=scaler_model.transform(data)"
   ]
  },
  {
   "cell_type": "code",
   "execution_count": null,
   "metadata": {},
   "outputs": [],
   "source": [
    "data_1= data.select(data.target.alias(\"label\"), data.newFeatures.alias(\"features\"))"
   ]
  },
  {
   "cell_type": "code",
   "execution_count": 40,
   "metadata": {
    "collapsed": true
   },
   "outputs": [
    {
     "name": "stdout",
     "output_type": "stream",
     "text": [
      "+-----+--------------------+\n",
      "|label|            features|\n",
      "+-----+--------------------+\n",
      "|    0|[0.28303433540817...|\n",
      "|    0|[0.35212145664954...|\n",
      "|    0|[3.58435870956552...|\n",
      "|    1|[1.83043727676051...|\n",
      "|    0|[0.14931732655392...|\n",
      "|    0|[1.69226303427777...|\n",
      "|    1|[2.55325199684491...|\n",
      "|    0|[0.74435801595536...|\n",
      "|    1|[0.23029040413788...|\n",
      "|    0|[1.71157771333450...|\n",
      "|    1|[1.59643251126555...|\n",
      "|    0|[0.62995568615783...|\n",
      "|    0|[1.83415163811757...|\n",
      "|    0|[3.28943841781474...|\n",
      "|    1|[0.23697625458060...|\n",
      "|    1|[2.67656879389939...|\n",
      "|    0|[0.99693458823563...|\n",
      "|    0|[0.21691870325246...|\n",
      "|    0|[3.16240725940320...|\n",
      "|    1|[0.33949262803553...|\n",
      "+-----+--------------------+\n",
      "only showing top 20 rows\n",
      "\n"
     ]
    }
   ],
   "source": [
    "data_1.show()"
   ]
  },
  {
   "cell_type": "code",
   "execution_count": 41,
   "metadata": {},
   "outputs": [],
   "source": [
    "#train test split\n",
    "train, val= data_1.randomSplit([0.85,0.15],seed=42)\n",
    "train=train.cache()"
   ]
  },
  {
   "cell_type": "code",
   "execution_count": 66,
   "metadata": {},
   "outputs": [],
   "source": [
    "##Random Forest Classifier\n",
    "rf=RandomForestClassifier()\n",
    "\n",
    "feature1_eval=MulticlassClassificationEvaluator(metricName='f1')\n",
    "param_grid=ParamGridBuilder().build()\n",
    "\n",
    "cross_val_rf=CrossValidator(estimator=rf, estimatorParamMaps=param_grid, evaluator=feature1_eval, numFolds=3)"
   ]
  },
  {
   "cell_type": "code",
   "execution_count": 69,
   "metadata": {},
   "outputs": [],
   "source": [
    "import datetime\n",
    "from time import time "
   ]
  },
  {
   "cell_type": "code",
   "execution_count": 71,
   "metadata": {},
   "outputs": [
    {
     "name": "stdout",
     "output_type": "stream",
     "text": [
      "Time training took:139.0088620185852\n"
     ]
    }
   ],
   "source": [
    "start=time()\n",
    "cv_model_rf=cross_val_rf.fit(train)\n",
    "end=time()\n",
    "cv_model_rf.avgMetrics\n",
    "print(\"Time training took:{}\".format(end-start))"
   ]
  },
  {
   "cell_type": "code",
   "execution_count": 72,
   "metadata": {},
   "outputs": [],
   "source": [
    "res_rf=cv_model_rf.transform(val)"
   ]
  },
  {
   "cell_type": "code",
   "execution_count": 73,
   "metadata": {},
   "outputs": [
    {
     "name": "stdout",
     "output_type": "stream",
     "text": [
      "F-1 score for Random Forest Classifier:0.8260869565217391\n",
      "Accuracy for Random Forest Classifier:0.8009661835748794\n"
     ]
    }
   ],
   "source": [
    "##Evaluation metrics for Random Forest \n",
    "evaluator=MulticlassClassificationEvaluator(predictionCol=\"prediction\")\n",
    "print(\"F-1 score for Random Forest Classifier:{}\".format(evaluator.evaluate(res_rf,{evaluator.metricName : \"accuracy\"})))\n",
    "print(\"Accuracy for Random Forest Classifier:{}\".format(evaluator.evaluate(res_rf,{evaluator.metricName : \"f1\"})))"
   ]
  },
  {
   "cell_type": "code",
   "execution_count": 74,
   "metadata": {},
   "outputs": [],
   "source": [
    "##Gradient Boost\n",
    "gbt_clf=GBTClassifier(maxIter=10, seed=42)\n",
    "\n",
    "feature1_eval=MulticlassClassificationEvaluator(metricName='f1')\n",
    "param_grid=ParamGridBuilder().build()\n",
    "\n",
    "cross_val_gbt=CrossValidator(estimator=gbt_clf, estimatorParamMaps=param_grid, evaluator=feature1_eval, numFolds=3)"
   ]
  },
  {
   "cell_type": "code",
   "execution_count": 75,
   "metadata": {},
   "outputs": [
    {
     "name": "stdout",
     "output_type": "stream",
     "text": [
      "Time training took:636.4021620750427\n"
     ]
    }
   ],
   "source": [
    "start=time()\n",
    "cv_model_gbt=cross_val_gbt.fit(train)\n",
    "end=time()\n",
    "cv_model_gbt.avgMetrics\n",
    "print(\"Time training took:{}\".format(end-start))"
   ]
  },
  {
   "cell_type": "code",
   "execution_count": 76,
   "metadata": {},
   "outputs": [],
   "source": [
    "res_gbt=cv_model_gbt.transform(val)"
   ]
  },
  {
   "cell_type": "code",
   "execution_count": 77,
   "metadata": {},
   "outputs": [
    {
     "name": "stdout",
     "output_type": "stream",
     "text": [
      "F-1 score for Gradient Boost:0.7391304347826086\n",
      "Accuracy for Gradient Boost:0.7391304347826086\n"
     ]
    }
   ],
   "source": [
    "##Evaluation metrics for Gradient Boost\n",
    "evaluator=MulticlassClassificationEvaluator(predictionCol=\"prediction\")\n",
    "print(\"F-1 score for Gradient Boost:{}\".format(evaluator.evaluate(res_gbt,{evaluator.metricName : \"accuracy\"})))\n",
    "print(\"Accuracy for Gradient Boost:{}\".format(evaluator.evaluate(res_gbt,{evaluator.metricName : \"f1\"})))"
   ]
  },
  {
   "cell_type": "markdown",
   "metadata": {},
   "source": [
    "#### Model Comparison:"
   ]
  },
  {
   "cell_type": "markdown",
   "metadata": {},
   "source": [
    "- Random Forest: Accuracy=0.8009, F1-score=0.826 and time taken=139.008 seconds\n",
    "- Gradient Boost:  Accuracy=0.7391, F1-score=0.739 and time taken=636.40 seconds\n",
    "\n",
    "Time taken difference is considerable and also since its a smaller dataset the performance difference is clearly evident between the two models. Thus, I will go ahead with Random Forest in this case and do some hyperparameter tuning to improve the model further.\n",
    "    "
   ]
  },
  {
   "cell_type": "markdown",
   "metadata": {},
   "source": [
    "#### Hyperparameter Tuning:"
   ]
  },
  {
   "cell_type": "code",
   "execution_count": 84,
   "metadata": {},
   "outputs": [],
   "source": [
    "RandomForestClassifier(maxDepth=10,seed=42)\n",
    "\n",
    "param_grid_rf=ParamGridBuilder().addGrid(rf.maxDepth,[5,10]).build()\n",
    "feature1_eval=MulticlassClassificationEvaluator(metricName='f1')\n",
    "\n",
    "cross_val_rf=CrossValidator(estimator=rf, estimatorParamMaps=param_grid_rf, evaluator=feature1_eval, numFolds=3)"
   ]
  },
  {
   "cell_type": "code",
   "execution_count": 85,
   "metadata": {},
   "outputs": [
    {
     "name": "stderr",
     "output_type": "stream",
     "text": [
      "Exception ignored in: <object repr() failed>\n",
      "Traceback (most recent call last):\n",
      "  File \"/opt/spark-2.4.3-bin-hadoop2.7/python/pyspark/ml/wrapper.py\", line 40, in __del__\n",
      "    if SparkContext._active_spark_context and self._java_obj is not None:\n",
      "AttributeError: 'RandomForestClassifier' object has no attribute '_java_obj'\n"
     ]
    },
    {
     "data": {
      "text/plain": [
       "[0.8080422180613888, 0.7869331687463434]"
      ]
     },
     "execution_count": 85,
     "metadata": {},
     "output_type": "execute_result"
    }
   ],
   "source": [
    "cv_model_rf=cross_val_rf.fit(train)\n",
    "cv_model_rf.avgMetrics"
   ]
  },
  {
   "cell_type": "code",
   "execution_count": 86,
   "metadata": {},
   "outputs": [],
   "source": [
    "##choosing parameters with best metrics\n",
    "rf_best=RandomForestClassifier(seed=42,maxDepth=5)\n",
    "rf_best_model=rf_best.fit(train)\n",
    "results_final=rf_best_model.transform(val)"
   ]
  },
  {
   "cell_type": "code",
   "execution_count": 87,
   "metadata": {},
   "outputs": [
    {
     "name": "stdout",
     "output_type": "stream",
     "text": [
      "F-1 score for Random Forest Classifier:0.8260869565217391\n",
      "Accuracy for Random Forest Classifier:0.8009661835748794\n"
     ]
    }
   ],
   "source": [
    "##final evaluation metrics\n",
    "evaluator=MulticlassClassificationEvaluator(predictionCol=\"prediction\")\n",
    "print(\"F-1 score for Random Forest Classifier:{}\".format(evaluator.evaluate(results_final,{evaluator.metricName : \"accuracy\"})))\n",
    "print(\"Accuracy for Random Forest Classifier:{}\".format(evaluator.evaluate(results_final,{evaluator.metricName : \"f1\"})))"
   ]
  },
  {
   "cell_type": "markdown",
   "metadata": {},
   "source": [
    "#### Feature Importance"
   ]
  },
  {
   "cell_type": "code",
   "execution_count": 91,
   "metadata": {},
   "outputs": [
    {
     "data": {
      "text/plain": [
       "Text(0.5,1,'Random Forest Feature Importance')"
      ]
     },
     "execution_count": 91,
     "metadata": {},
     "output_type": "execute_result"
    },
    {
     "data": {
      "image/png": "[encoded data removed]",
      "text/plain": [
       "<matplotlib.figure.Figure at 0x7efff27c65c0>"
      ]
     },
     "metadata": {
      "needs_background": "light"
     },
     "output_type": "display_data"
    }
   ],
   "source": [
    "feat_imp=rf_best_model.featureImportances.values\n",
    "y_pos=np.arange(len(cols))\n",
    "\n",
    "plt.barh(y_pos, feat_imp, align='center')\n",
    "plt.yticks(y_pos,cols)\n",
    "plt.xlabel('Importance Score')\n",
    "plt.title('Random Forest Feature Importance')"
   ]
  },
  {
   "cell_type": "markdown",
   "metadata": {},
   "source": [
    "It is evident from the plot above that lifetime is an important factor.Following that, Adding Friends, Total songs played and  total thumbs down also look to be have an important bearing but not as much as lifetime."
   ]
  },
  {
   "cell_type": "markdown",
   "metadata": {},
   "source": [
    "#### Conclusion"
   ]
  },
  {
   "cell_type": "markdown",
   "metadata": {},
   "source": [
    "I used two models to predict customers churn. I built 9 features for the model and selected 2 models: Random Forest and Gradient Boost. Finally, selecting RF for prediction. The RF model had an 80% accuracy with 0.826 F1 score. Also, investigating feature importance- Lifetime of the customer looks to be an important determinent in the data."
   ]
  },
  {
   "cell_type": "code",
   "execution_count": null,
   "metadata": {},
   "outputs": [],
   "source": []
  },
  {
   "cell_type": "code",
   "execution_count": null,
   "metadata": {},
   "outputs": [],
   "source": []
  },
  {
   "cell_type": "markdown",
   "metadata": {},
   "source": [
    "# Final Steps\n",
    "Clean up your code, adding comments and renaming variables to make the code easier to read and maintain. Refer to the Spark Project Overview page and Data Scientist Capstone Project Rubric to make sure you are including all components of the capstone project and meet all expectations. Remember, this includes thorough documentation in a README file in a Github repository, as well as a web app or blog post."
   ]
  },
  {
   "cell_type": "code",
   "execution_count": null,
   "metadata": {},
   "outputs": [],
   "source": []
  }
 ],
 "metadata": {
  "kernelspec": {
   "display_name": "Python 3",
   "language": "python",
   "name": "python3"
  },
  "language_info": {
   "codemirror_mode": {
    "name": "ipython",
    "version": 3
   },
   "file_extension": ".py",
   "mimetype": "text/x-python",
   "name": "python",
   "nbconvert_exporter": "python",
   "pygments_lexer": "ipython3",
   "version": "3.6.3"
  }
 },
 "nbformat": 4,
 "nbformat_minor": 2
}
